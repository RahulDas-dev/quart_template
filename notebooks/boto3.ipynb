{
 "cells": [
  {
   "cell_type": "code",
   "execution_count": null,
   "id": "c46add77-907f-4fd4-ba84-09267cdb0e3c",
   "metadata": {},
   "outputs": [
    {
     "data": {
      "text/plain": [
       "True"
      ]
     },
     "execution_count": 1,
     "metadata": {},
     "output_type": "execute_result"
    }
   ],
   "source": [
    "import os\n",
    "import sys\n",
    "sys.path.append(os.path.abspath(os.path.join(os.getcwd(), \"..\", \"src\")))\n",
    "\n",
    "import boto3\n",
    "from dotenv import load_dotenv\n",
    "\n",
    "load_dotenv()"
   ]
  },
  {
   "cell_type": "code",
   "execution_count": 2,
   "id": "47f1b39c-447c-43c2-8758-95b00f83dd90",
   "metadata": {},
   "outputs": [],
   "source": [
    "SYSTEM_MESSAGE_1 = \"\"\"Your primary task is to extract invoice details from an image.\n",
    "The extracted details should include the following information. If any detail is not present, use the reserved keyword \"NOT_AVAILABLE\":\n",
    "\n",
    "1. Invoice Number\n",
    "2. Invoice Date\n",
    "3. Seller Details (Company Name, Gst No, Pan No, Address, Phone Number, Email) [if present]\n",
    "4. Buyer Details (Company Name,  Gst No, Pan No, Address, Phone Number, Email) [if present]\n",
    "5. Item Details (sl.no, Description, Quantity, Price) [If multiple items are present, capture all of them]\n",
    "6. Total Tax (CGST, IGST, SGST) [if present]\n",
    "7. Total Charges [if present]\n",
    "8. Total Discount [if present]\n",
    "9. Total Amount\n",
    "10. Amount Paid [if present]\n",
    "11. Amount Due [if present]\n",
    "\n",
    "If the document is not an invoice, return the reserved keyword \"NO_INVOICE\"\n",
    "\n",
    "Here is One Example Response format --\n",
    "\n",
    "```\n",
    "1. Invoice Number: 1118212440009383\n",
    "2. Invoice Date: 21-MAR-2022\n",
    "3. Seller Details:\n",
    "   - Company Name: VRRDDHI FREIGHT PVT LTD\n",
    "   - GST No - NOT_AVAILABLE\n",
    "   - PAN No - NOT_AVAILABLE\n",
    "   - Address: 28 A 116, Egato Trade Centre, New No. 318, Poonamallee High Road, Kilpauk, Chennai - 600 010, Tamil Nadu\n",
    "   - Phone Number: +91 44 25003622\n",
    "   - Email: seller@abc.co.in\n",
    "4. Buyer Details:\n",
    "   - Company Name: SUNDARAM CLAYTON LIMITED\n",
    "   - GST No - NOT_AVAILABLE\n",
    "   - PAN No - NOT_AVAILABLE\n",
    "   - Address: PADI CHENNAI - 600050\n",
    "   - Phone Number: NOT_AVAILABLE\n",
    "   - Email: NOT_AVAILABLE\n",
    "5. Item Details:\n",
    "   - 1. Description: FREIGHT CHARGE, Quantity: 1.000, Price: 8700.00\n",
    "   - 2. Description: DESTINATION CHARGES, Quantity: 1.000, Price: 1600.00\n",
    "   - 3. Description: ORIGIN LOCAL CHARGES, Quantity: 1.000, Price: 4702.00\n",
    "   - 4. Description: FUMIGATION CHARGES, Quantity: 1.000, Price: 3500.00\n",
    "6. Total Tax:\n",
    "   - CGST: 0.00\n",
    "   - SGST: 0.00\n",
    "   - IGST: 0.00\n",
    "7. Total Charges: NOT_AVAILABLE\n",
    "8. Total Discount: NOT_AVAILABLE\n",
    "9. Total Amount: 889397.00\n",
    "10. Amount Paid: NOT_AVAILABLE\n",
    "11. Amount Due: NOT_AVAILABLE\n",
    "```\n",
    "\"\"\""
   ]
  },
  {
   "cell_type": "code",
   "execution_count": 3,
   "id": "85ee8e8e-398c-42aa-b2da-f4381e0a2e25",
   "metadata": {},
   "outputs": [
    {
     "name": "stdout",
     "output_type": "stream",
     "text": [
      "1. Invoice Number: DABUR013\n",
      "2. Invoice Date: 30th Sep 2022\n",
      "3. Seller Details:\n",
      "   - Company Name: Vonken Technologies Pvt. Ltd.\n",
      "   - GSTIN NO: 27AAFCV1618M1Z1\n",
      "   - PAN NO: AAFCV1618M\n",
      "   - Address: OFFICE NO.627, BOMBAY OIL SEEDS, PLOT NO.2/3/4 SECTOR-19A, VASHI NAVI MUMBAI Thane Maharashtra, India - 400705\n",
      "   - Phone Number: +91-7709365614\n",
      "   - Email: move@quifers.com\n",
      "4. Buyer Details:\n",
      "   - Company Name: DABUR INDIA LTD\n",
      "   - GSTIN NO: 09AAACD0474C1Z3\n",
      "   - PAN NO: AAFCV1618M\n",
      "   - Address: Kaushambi Corporate Office, Kaushambi, Sahibabad, Ghaziabad, Uttar Pradesh, 201010\n",
      "   - Phone Number: NOT_AVAILABLE\n",
      "   - Email: NOT_AVAILABLE\n",
      "5. Item Details:\n",
      "   - 1. Description: Quifers TLB Quarterly License, Quantity: 1, Price: 575000\n",
      "   - 2. Description: Quifers TLB Technology Infrastructure Cost, Quantity: 1, Price: 67500\n",
      "6. Total Tax:\n",
      "   - CGST: 0.00\n",
      "   - SGST: 0.00\n",
      "   - IGST: 115650\n",
      "7. Total Charges: 642500\n",
      "8. Total Discount: NOT_AVAILABLE\n",
      "9. Total Amount: 758150\n",
      "10. Amount Paid: NOT_AVAILABLE\n",
      "11. Amount Due: NOT_AVAILABLE\n"
     ]
    }
   ],
   "source": [
    "### Bedrock Model boto3 client\n",
    "def get_secret_keys() -> dict:\n",
    "    return {\n",
    "        \"aws_access_key_id\": os.getenv(\"AWS_ACCESS_KEY\"),\n",
    "        \"aws_secret_access_key\": os.getenv(\"AWS_SECRET_KEY\"),\n",
    "        \"region_name\": os.getenv(\"REGION_NAME\"),\n",
    "    }\n",
    "\n",
    "\n",
    "MODEL_ID = \"us.meta.llama3-2-90b-instruct-v1:0\"\n",
    "\n",
    "runtime = boto3.client(\"bedrock-runtime\", **get_secret_keys())\n",
    "\n",
    "image_name = \"C:/Users/rdas6/OneDrive/Desktop/codespace/vyturr/temp/img/Invoice-Copy-12/Page_01.png\"\n",
    "\n",
    "with open(image_name, \"rb\") as f:\n",
    "    image = f.read()\n",
    "\n",
    "messages = [\n",
    "    {\n",
    "        \"role\": \"user\",\n",
    "        \"content\": [\n",
    "            {\"image\": {\"format\": \"png\", \"source\": {\"bytes\": image}}},\n",
    "            {\"text\": SYSTEM_MESSAGE_1},\n",
    "        ],\n",
    "    },\n",
    "]\n",
    "\n",
    "response = runtime.converse(modelId=MODEL_ID, messages=messages)\n",
    "\n",
    "response_text = response[\"output\"][\"message\"][\"content\"][0][\"text\"]\n",
    "\n",
    "print(response_text)"
   ]
  },
  {
   "cell_type": "code",
   "execution_count": null,
   "id": "705274d4-2aa6-4b3e-8ce8-29650e019048",
   "metadata": {},
   "outputs": [],
   "source": []
  }
 ],
 "metadata": {
  "kernelspec": {
   "display_name": "Python 3 (ipykernel)",
   "language": "python",
   "name": "python3"
  },
  "language_info": {
   "codemirror_mode": {
    "name": "ipython",
    "version": 3
   },
   "file_extension": ".py",
   "mimetype": "text/x-python",
   "name": "python",
   "nbconvert_exporter": "python",
   "pygments_lexer": "ipython3",
   "version": "3.11.9"
  }
 },
 "nbformat": 4,
 "nbformat_minor": 5
}
